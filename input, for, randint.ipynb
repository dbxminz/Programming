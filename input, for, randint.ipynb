{
 "cells": [
  {
   "cell_type": "code",
   "execution_count": 1,
   "metadata": {
    "collapsed": true
   },
   "outputs": [
    {
     "name": "stdout",
     "output_type": "stream",
     "text": [
      "13400초 ---> 3시간 43분 20초\n"
     ]
    }
   ],
   "source": [
    "'''\n",
    "과제 번호 : 01\n",
    "내용 : 키보드를 통해 초단위의 시간값을 입력받아, 그 시간값을 시(hours), 분(minutes), 초(seconds) 단위로 변환하여 출력\n",
    "'''\n",
    "\n",
    "time = int(input('시간값 입력(초단위) : '))\n",
    "\n",
    "hours = time//(60**2)\n",
    "minutes = (time%(60**2))//60\n",
    "seconds = (time%(60**2))%60\n",
    "\n",
    "print(f'{time}초 ---> {hours}시간 {minutes}분 {seconds}초')\n"
   ]
  },
  {
   "cell_type": "code",
   "execution_count": 2,
   "outputs": [
    {
     "name": "stdout",
     "output_type": "stream",
     "text": [
      "입력값의 순서화:\n",
      "13\t17\t"
     ]
    }
   ],
   "source": [
    "'''\n",
    "과제 번호 : 02\n",
    "내용 : 두 개의 정수값을 입력받아, 두 값의 크기를 비교하여 작은 순서대로 리스트를 저장하고 그 리스트의 아이템을 for 반복문을 사용하여 엑세스하여 출력하라.\n",
    "(단, 출력문을 작성할 때 아이템간의 구분은 기본값인 엔터키가 아닌 탭으로 지정)\n",
    "'''\n",
    "\n",
    "first = int(input('첫번째 정수 : '))\n",
    "second = int(input('두번째 정수 : '))\n",
    "\n",
    "num = [min(first,second), max(first, second)]\n",
    "\n",
    "print('입력값의 순서화:')\n",
    "for i in num:\n",
    "    print(i, end='\\t')"
   ],
   "metadata": {
    "collapsed": false,
    "pycharm": {
     "name": "#%%\n"
    }
   }
  },
  {
   "cell_type": "code",
   "execution_count": 5,
   "outputs": [
    {
     "name": "stdout",
     "output_type": "stream",
     "text": [
      "주사위 2개의 두 눈이 같은 값이 나온 비율값 : 0.167137\n"
     ]
    }
   ],
   "source": [
    "'''\n",
    "과제 번호 : 03\n",
    "내용 : 주사위 2개를 던져 두 눈이 같은 값이 나올 확률은 얼마인가?\n",
    "이 확률을 구하기 위한 모의실험을 위해 주사위 2개를 각각 1000000번 던져, 두 눈이 같은 값이 나온 비율을 출력하는 프로그램을 작성하고, 확률값과 비교해보시오.\n",
    "(확률을 구하는 과정과 모의실험을 통해 구한 비율값과 비교하는 것은 docstring을 사용하시오.)\n",
    "'''\n",
    "\n",
    "'''\n",
    "주사위 2개를 던져 두 눈이 같은 값이 나올 확률 : (1/6)*(1/6)*6 ==> 약 0.166666\n",
    "모의실험을 통해 구한 비율값 : 0.167137\n",
    "\n",
    "===> 모의실험을 통해 구한 비율값과 확률값의 차이는 매우 작다.\n",
    "'''\n",
    "\n",
    "from random import randint\n",
    "total = 0\n",
    "\n",
    "for i in range(10**6):\n",
    "    dice1 = randint(1, 6)\n",
    "    dice2 = randint(1, 6)\n",
    "    if dice1 == dice2:\n",
    "        total += 1\n",
    "\n",
    "prob = total / (10**6)\n",
    "print(f'주사위 2개의 두 눈이 같은 값이 나온 비율값 : {prob}')"
   ],
   "metadata": {
    "collapsed": false,
    "pycharm": {
     "name": "#%%\n"
    }
   }
  },
  {
   "cell_type": "code",
   "execution_count": null,
   "outputs": [],
   "source": [],
   "metadata": {
    "collapsed": false,
    "pycharm": {
     "name": "#%%\n"
    }
   }
  }
 ],
 "metadata": {
  "kernelspec": {
   "name": "lab_kernel",
   "language": "python",
   "display_name": "lab_kernel"
  },
  "language_info": {
   "codemirror_mode": {
    "name": "ipython",
    "version": 2
   },
   "file_extension": ".py",
   "mimetype": "text/x-python",
   "name": "python",
   "nbconvert_exporter": "python",
   "pygments_lexer": "ipython2",
   "version": "2.7.6"
  }
 },
 "nbformat": 4,
 "nbformat_minor": 0
}